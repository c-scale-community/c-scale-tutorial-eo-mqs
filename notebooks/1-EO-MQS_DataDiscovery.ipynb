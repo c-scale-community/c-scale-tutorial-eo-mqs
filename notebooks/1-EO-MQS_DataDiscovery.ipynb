{
 "cells": [
  {
   "cell_type": "markdown",
   "id": "0f4d3ee1-bff3-4882-9e80-0295568a74f4",
   "metadata": {},
   "source": [
    "# Discovering Earth Observation Data with the EO-MQS"
   ]
  },
  {
   "cell_type": "markdown",
   "id": "225d4846-0f66-47b9-b433-57c72bb8c586",
   "metadata": {},
   "source": [
    "The EO-MQS service is hosted within the C-SCALE federated cloud infrastructure and provides a unified way of discovering Copernicus data available within the federation by making use of the SpatioTemporal Asset Catalog (STAC) specification. The purpose of this notebook is to prvovide a concise introduction on how to use open-source Python libraries to search for geospatial data exposed by the EO-MQS STAC API."
   ]
  },
  {
   "cell_type": "markdown",
   "id": "118fc6ec-3af4-4ac8-9d31-8c62bb93f6c8",
   "metadata": {
    "tags": []
   },
   "source": [
    "## Prerequisites\n",
    "\n",
    "In this example, we are going to make use of a popular STAC client for Python, the `pystac-client`. The library is already installed in this environment, but can be manually installed anywhere else via `pip install pystac-client`. \n",
    "Alternatively, common Python libraries like the `requests` library which support working with HTTP APIs are of course also well suited.\n",
    "\n",
    "To get started, we need to import the `Client` class to connect to the EO-MQS which exposes its STAC API under `https://mqs.eodc.eu/stac/v1`."
   ]
  },
  {
   "cell_type": "code",
   "execution_count": 1,
   "id": "d16531ad-596b-4ce0-87b5-fba37c3b35e8",
   "metadata": {
    "tags": []
   },
   "outputs": [],
   "source": [
    "from pystac_client import Client\n",
    "\n",
    "client = Client.open(\"https://mqs.eodc.eu/stac/v1\")\n"
   ]
  },
  {
   "cell_type": "code",
   "execution_count": 2,
   "id": "de0c50d8-3fa5-4a1d-8645-e8efaaee3d14",
   "metadata": {
    "tags": []
   },
   "outputs": [
    {
     "data": {
      "text/plain": [
       "'C-SCALE Earth Observation Metadata Query Service (EO-MQS)'"
      ]
     },
     "execution_count": 2,
     "metadata": {},
     "output_type": "execute_result"
    }
   ],
   "source": [
    "client.title"
   ]
  },
  {
   "cell_type": "markdown",
   "id": "6f259c12-2f74-4165-b337-7d7488aa1500",
   "metadata": {},
   "source": [
    "## CollectionClient\n",
    "\n",
    "The client can be used to iterate through the Collections available in the EO-MQS Catalog. \n",
    "\n",
    "The `get_collections` method fetches the collections from the `/collections` endpoint and returns an iterable. To load a particular collection for further use we call the `get_collection(<collection_id>)` method below."
   ]
  },
  {
   "cell_type": "code",
   "execution_count": 3,
   "id": "7c122f10-e897-47f8-8d9b-f71f103181fa",
   "metadata": {
    "tags": []
   },
   "outputs": [
    {
     "name": "stdout",
     "output_type": "stream",
     "text": [
      "<CollectionClient id=EODC|sentinel1-grd>\n",
      "<CollectionClient id=EODC|sentinel-2-l1c>\n",
      "<CollectionClient id=EODC|s1-global-sigma0>\n",
      "<CollectionClient id=EODC|s1-demo-sigma0>\n",
      "<CollectionClient id=EODC|landsat-c2-l1>\n",
      "<CollectionClient id=GRNET-OPENSTACK|sentinel-1-grd>\n",
      "<CollectionClient id=GRNET-OPENSTACK|sentinel-1-ocn>\n",
      "<CollectionClient id=GRNET-OPENSTACK|sentinel-1-raw>\n",
      "<CollectionClient id=GRNET-OPENSTACK|sentinel-1-slc>\n",
      "<CollectionClient id=GRNET-OPENSTACK|sentinel-2-l1b>\n",
      "<CollectionClient id=GRNET-OPENSTACK|sentinel-2-l1c>\n",
      "<CollectionClient id=GRNET-OPENSTACK|sentinel-2-l2a>\n",
      "<CollectionClient id=GRNET-OPENSTACK|sentinel-3-olci-l1b>\n",
      "<CollectionClient id=GRNET-OPENSTACK|sentinel-3-olci-l2>\n",
      "<CollectionClient id=GRNET-OPENSTACK|sentinel-3-slstr-l1b>\n",
      "<CollectionClient id=GRNET-OPENSTACK|sentinel-3-slstr-l2>\n",
      "<CollectionClient id=GRNET-OPENSTACK|sentinel-3-stm-l2>\n",
      "<CollectionClient id=GRNET-OPENSTACK|sentinel-3-syn-l2>\n",
      "<CollectionClient id=GRNET-OPENSTACK|sentinel-5p-l1b>\n",
      "<CollectionClient id=GRNET-OPENSTACK|sentinel-5p-l2>\n",
      "<CollectionClient id=CREODIAS|LANDSAT-5>\n",
      "<CollectionClient id=CREODIAS|SENTINEL-1>\n",
      "<CollectionClient id=CREODIAS|SENTINEL-2>\n",
      "<CollectionClient id=CREODIAS|ENVISAT>\n",
      "<CollectionClient id=CREODIAS|COP-DEM>\n",
      "<CollectionClient id=CREODIAS|SENTINEL-1-RTC>\n",
      "<CollectionClient id=CREODIAS|SENTINEL-5P>\n",
      "<CollectionClient id=CREODIAS|SMOS>\n",
      "<CollectionClient id=CREODIAS|LANDSAT-8>\n",
      "<CollectionClient id=CREODIAS|S2GLC>\n",
      "<CollectionClient id=CREODIAS|TERRAAQUA>\n",
      "<CollectionClient id=CREODIAS|SENTINEL-3>\n",
      "<CollectionClient id=CREODIAS|LANDSAT-7>\n",
      "<CollectionClient id=CREODIAS|SENTINEL-6>\n",
      "<CollectionClient id=CollGS_CZ|sentinel-1-grd>\n",
      "<CollectionClient id=CollGS_CZ|sentinel-1-ocn>\n",
      "<CollectionClient id=CollGS_CZ|sentinel-1-raw>\n",
      "<CollectionClient id=CollGS_CZ|sentinel-1-slc>\n",
      "<CollectionClient id=CollGS_CZ|sentinel-2-l1b>\n",
      "<CollectionClient id=CollGS_CZ|sentinel-2-l1c>\n",
      "<CollectionClient id=CollGS_CZ|sentinel-2-l2a>\n",
      "<CollectionClient id=CollGS_CZ|sentinel-3-olci-l1b>\n",
      "<CollectionClient id=CollGS_CZ|sentinel-3-olci-l2>\n",
      "<CollectionClient id=CollGS_CZ|sentinel-3-slstr-l1b>\n",
      "<CollectionClient id=CollGS_CZ|sentinel-3-slstr-l2>\n",
      "<CollectionClient id=CollGS_CZ|sentinel-3-stm-l2>\n",
      "<CollectionClient id=CollGS_CZ|sentinel-3-syn-l2>\n",
      "<CollectionClient id=CollGS_CZ|sentinel-5p-l1b>\n",
      "<CollectionClient id=CollGS_CZ|sentinel-5p-l2>\n",
      "<CollectionClient id=VITO|urn:eop:VITO:CGS_S1_GRD_L1>\n",
      "<CollectionClient id=VITO|urn:eop:VITO:CGS_S1_GRD_SIGMA0_L1>\n",
      "<CollectionClient id=VITO|urn:eop:VITO:CGS_S1_SLC_L1>\n",
      "<CollectionClient id=VITO|urn:eop:VITO:CGS_S2_L1C>\n",
      "<CollectionClient id=VITO|urn:eop:VITO:COP_DEM_GLO_30M_COG>\n",
      "<CollectionClient id=VITO|urn:eop:VITO:COP_DEM_GLO_90M_COG>\n",
      "<CollectionClient id=VITO|urn:eop:VITO:ESA_WorldCover_10m_2020_AWS_V1>\n",
      "<CollectionClient id=VITO|urn:eop:VITO:ESA_WorldCover_10m_2020_V1>\n",
      "<CollectionClient id=VITO|urn:eop:VITO:ESA_WorldCover_10m_2021_AWS_V2>\n",
      "<CollectionClient id=VITO|urn:eop:VITO:ESA_WorldCover_10m_2021_V2>\n",
      "<CollectionClient id=VITO|urn:eop:VITO:ESA_WorldCover_NDVI_10m_2020_V1>\n",
      "<CollectionClient id=VITO|urn:eop:VITO:ESA_WorldCover_NDVI_10m_2021_V2>\n",
      "<CollectionClient id=VITO|urn:eop:VITO:ESA_WorldCover_S1VVVHratio_10m_2020_V1>\n",
      "<CollectionClient id=VITO|urn:eop:VITO:ESA_WorldCover_S1VVVHratio_10m_2021_V2>\n",
      "<CollectionClient id=VITO|urn:eop:VITO:ESA_WorldCover_S2RGBNIR_10m_2020_V1>\n",
      "<CollectionClient id=VITO|urn:eop:VITO:ESA_WorldCover_S2RGBNIR_10m_2021_V2>\n",
      "<CollectionClient id=VITO|urn:eop:VITO:ESA_WorldCover_SWIR_10m_2020_V1>\n",
      "<CollectionClient id=VITO|urn:eop:VITO:ESA_WorldCover_SWIR_10m_2021_V2>\n",
      "<CollectionClient id=VITO|urn:eop:VITO:PROBAV_L1C_HDF_V2>\n",
      "<CollectionClient id=VITO|urn:eop:VITO:PROBAV_L2A_100M_COG_V2>\n",
      "<CollectionClient id=VITO|urn:eop:VITO:PROBAV_L2A_100M_HDF_V2>\n",
      "<CollectionClient id=VITO|urn:eop:VITO:PROBAV_L2A_1KM_COG_V2>\n",
      "<CollectionClient id=VITO|urn:eop:VITO:PROBAV_L2A_1KM_HDF_V2>\n",
      "<CollectionClient id=VITO|urn:eop:VITO:PROBAV_L2A_333M_COG_V2>\n",
      "<CollectionClient id=VITO|urn:eop:VITO:PROBAV_L2A_333M_HDF_V2>\n",
      "<CollectionClient id=VITO|urn:eop:VITO:PROBAV_S10_TOC_1KM_COG_V2>\n",
      "<CollectionClient id=VITO|urn:eop:VITO:PROBAV_S10_TOC_1KM_HDF_V2>\n",
      "<CollectionClient id=VITO|urn:eop:VITO:PROBAV_S10_TOC_333M_COG_V2>\n",
      "<CollectionClient id=VITO|urn:eop:VITO:PROBAV_S10_TOC_333M_HDF_V2>\n",
      "<CollectionClient id=VITO|urn:eop:VITO:PROBAV_S10_TOC_NDVI_1KM_COG_V2>\n",
      "<CollectionClient id=VITO|urn:eop:VITO:PROBAV_S10_TOC_NDVI_1KM_HDF_V2>\n",
      "<CollectionClient id=VITO|urn:eop:VITO:PROBAV_S10_TOC_NDVI_333M_COG_V2>\n",
      "<CollectionClient id=VITO|urn:eop:VITO:PROBAV_S10_TOC_NDVI_333M_HDF_V2>\n",
      "<CollectionClient id=VITO|urn:eop:VITO:PROBAV_S1_TOA_100M_COG_V2>\n",
      "<CollectionClient id=VITO|urn:eop:VITO:PROBAV_S1_TOA_100M_HDF_V2>\n",
      "<CollectionClient id=VITO|urn:eop:VITO:PROBAV_S1_TOA_1KM_COG_V2>\n",
      "<CollectionClient id=VITO|urn:eop:VITO:PROBAV_S1_TOA_1KM_HDF_V2>\n",
      "<CollectionClient id=VITO|urn:eop:VITO:PROBAV_S1_TOA_333M_COG_V2>\n",
      "<CollectionClient id=VITO|urn:eop:VITO:PROBAV_S1_TOA_333M_HDF_V2>\n",
      "<CollectionClient id=VITO|urn:eop:VITO:PROBAV_S1_TOC_100M_COG_V2>\n",
      "<CollectionClient id=VITO|urn:eop:VITO:PROBAV_S1_TOC_100M_HDF_V2>\n",
      "<CollectionClient id=VITO|urn:eop:VITO:PROBAV_S1_TOC_1KM_COG_V2>\n",
      "<CollectionClient id=VITO|urn:eop:VITO:PROBAV_S1_TOC_1KM_HDF_V2>\n",
      "<CollectionClient id=VITO|urn:eop:VITO:PROBAV_S1_TOC_333M_COG_V2>\n",
      "<CollectionClient id=VITO|urn:eop:VITO:PROBAV_S1_TOC_333M_HDF_V2>\n",
      "<CollectionClient id=VITO|urn:eop:VITO:PROBAV_S5_TOA_100M_COG_V2>\n",
      "<CollectionClient id=VITO|urn:eop:VITO:PROBAV_S5_TOA_100M_HDF_V2>\n",
      "<CollectionClient id=VITO|urn:eop:VITO:PROBAV_S5_TOC_100M_COG_V2>\n",
      "<CollectionClient id=VITO|urn:eop:VITO:PROBAV_S5_TOC_100M_HDF_V2>\n",
      "<CollectionClient id=VITO|urn:eop:VITO:TERRASCOPE_S1_SLC_COHERENCE_V1>\n",
      "<CollectionClient id=VITO|urn:eop:VITO:TERRASCOPE_S2_CCC_V2>\n",
      "<CollectionClient id=VITO|urn:eop:VITO:TERRASCOPE_S2_CHL_V1>\n",
      "<CollectionClient id=VITO|urn:eop:VITO:TERRASCOPE_S2_CWC_V2>\n",
      "<CollectionClient id=VITO|urn:eop:VITO:TERRASCOPE_S2_FAPAR_V2>\n",
      "<CollectionClient id=VITO|urn:eop:VITO:TERRASCOPE_S2_FCOVER_V2>\n",
      "<CollectionClient id=VITO|urn:eop:VITO:TERRASCOPE_S2_LAI_V2>\n",
      "<CollectionClient id=VITO|urn:eop:VITO:TERRASCOPE_S2_NDVI_V2>\n",
      "<CollectionClient id=VITO|urn:eop:VITO:TERRASCOPE_S2_RHOW_V1>\n",
      "<CollectionClient id=VITO|urn:eop:VITO:TERRASCOPE_S2_SPM_V1>\n",
      "<CollectionClient id=VITO|urn:eop:VITO:TERRASCOPE_S2_TOC_V2>\n",
      "<CollectionClient id=VITO|urn:eop:VITO:TERRASCOPE_S2_TUR_V1>\n",
      "<CollectionClient id=VITO|urn:eop:VITO:TERRASCOPE_S3_SY_2_V10_V1>\n",
      "<CollectionClient id=VITO|urn:eop:VITO:TERRASCOPE_S3_SY_2_VG1_V1>\n",
      "<CollectionClient id=VITO|urn:eop:VITO:TERRASCOPE_S5P_L3_CH4_TD_V1>\n",
      "<CollectionClient id=VITO|urn:eop:VITO:TERRASCOPE_S5P_L3_CH4_TM_V1>\n",
      "<CollectionClient id=VITO|urn:eop:VITO:TERRASCOPE_S5P_L3_CH4_TY_V1>\n",
      "<CollectionClient id=VITO|urn:eop:VITO:TERRASCOPE_S5P_L3_CO_TD_V1>\n",
      "<CollectionClient id=VITO|urn:eop:VITO:TERRASCOPE_S5P_L3_CO_TM_V1>\n",
      "<CollectionClient id=VITO|urn:eop:VITO:TERRASCOPE_S5P_L3_CO_TY_V1>\n",
      "<CollectionClient id=VITO|urn:eop:VITO:TERRASCOPE_S5P_L3_HCHO_TD_V1>\n",
      "<CollectionClient id=VITO|urn:eop:VITO:TERRASCOPE_S5P_L3_HCHO_TM_V1>\n",
      "<CollectionClient id=VITO|urn:eop:VITO:TERRASCOPE_S5P_L3_HCHO_TY_V1>\n",
      "<CollectionClient id=VITO|urn:eop:VITO:TERRASCOPE_S5P_L3_NO2_TD_V1>\n",
      "<CollectionClient id=VITO|urn:eop:VITO:TERRASCOPE_S5P_L3_NO2_TM_V1>\n",
      "<CollectionClient id=VITO|urn:eop:VITO:TERRASCOPE_S5P_L3_NO2_TY_V1>\n",
      "<CollectionClient id=VITO|urn:ogc:def:EOP:VITO:PROBAV_S1-TOC_333M_V001>\n",
      "<CollectionClient id=VITO|urn:ogc:def:EOP:VITO:PROBAV_S10-TOC_333M_V001>\n",
      "<CollectionClient id=VITO|urn:ogc:def:EOP:VITO:PROBAV_S5-TOC_100M_V001>\n",
      "<CollectionClient id=VITO|urn:ogc:def:EOP:VITO:VGT_P>\n",
      "<CollectionClient id=VITO|urn:ogc:def:EOP:VITO:VGT_S1>\n",
      "<CollectionClient id=VITO|urn:ogc:def:EOP:VITO:VGT_S10>\n"
     ]
    }
   ],
   "source": [
    "for collection in client.get_collections():\n",
    "    print(collection)"
   ]
  },
  {
   "cell_type": "markdown",
   "id": "989152c5-a61e-45aa-b6dd-84e425ab907d",
   "metadata": {},
   "source": [
    "On static as well as dynamic catalogues we cann also make use of the `links` attributes which lets us quickly examinate, for instance, the number of available collections."
   ]
  },
  {
   "cell_type": "code",
   "execution_count": 4,
   "id": "75cc25f4-c482-4c5a-a93c-0d49b41da029",
   "metadata": {
    "tags": []
   },
   "outputs": [
    {
     "name": "stdout",
     "output_type": "stream",
     "text": [
      "The EO-MQS currently features 130 collections.\n"
     ]
    }
   ],
   "source": [
    "child_links = client.get_links('child')\n",
    "print(f\"The EO-MQS currently features {len(child_links)} collections.\")"
   ]
  },
  {
   "cell_type": "code",
   "execution_count": 5,
   "id": "d2e6a084-5985-4bbf-a131-285f0b066152",
   "metadata": {
    "tags": []
   },
   "outputs": [
    {
     "data": {
      "text/html": [
       "\n",
       "\n",
       "<div class=\"jp-RenderedHTMLCommon jp-RenderedHTML jp-mod-trusted jp-OutputArea-output\">\n",
       "    <div style=\"\n",
       "        width: 24px;\n",
       "        height: 24px;\n",
       "        background-color: #E1E1E1;\n",
       "        border: 3px solid #9D9D9D;\n",
       "        border-radius: 5px;\n",
       "        position: absolute;\">\n",
       "    </div>\n",
       "    <div>\n",
       "        <details style=\"margin-left: 48px;\">\n",
       "            <summary style=\"margin-bottom: 20px;\">\n",
       "                <h3 style=\"margin-bottom: 0px; display: inline;\">\n",
       "                    CollectionClient: VITO|urn:eop:VITO:ESA_WorldCover_10m_2020_V1\n",
       "                </h3>\n",
       "            </summary>\n",
       "            <table style=\"width: 100%; text-align: left;\">\n",
       "                <tr><td style=\"text-align: left;\"><strong>id:</strong> VITO|urn:eop:VITO:ESA_WorldCover_10m_2020_V1 </td></tr>\n",
       "                \n",
       "                    <tr><td style=\"text-align: left;\"><strong>title:</strong> ESA WorldCover products 10 meter COG format   </td></tr>\n",
       "                \n",
       "                \n",
       "                    <tr><td style=\"text-align: left;\"><strong>description:</strong> The WorldCover product will be released per 3 x 3 degree tile. </td></tr>\n",
       "                \n",
       "                \n",
       "    \n",
       "    \n",
       "\n",
       "                \n",
       "        \n",
       "            \n",
       "                <tr><td style=\"text-align: left;\"><strong>type:</strong> Collection </td></tr>\n",
       "            \n",
       "        \n",
       "    \n",
       "            </table>\n",
       "            \n",
       "            \n",
       "            \n",
       "        <details>\n",
       "            <summary style=\"margin-bottom: 10px; margin-top: 10px\">\n",
       "                <h4 style=\"margin-bottom: 0px; display: inline;\">Items</h4>\n",
       "            </summary>\n",
       "            <i> Only the first item shown </i>\n",
       "            \n",
       "                \n",
       "\n",
       "<div class=\"jp-RenderedHTMLCommon jp-RenderedHTML jp-mod-trusted jp-OutputArea-output\">\n",
       "    <div style=\"\n",
       "        width: 24px;\n",
       "        height: 24px;\n",
       "        background-color: #DBF5FF;\n",
       "        border: 3px solid #4CC9FF;\n",
       "        border-radius: 5px;\n",
       "        position: absolute;\">\n",
       "    </div>\n",
       "    <div>\n",
       "        <details style=\"margin-left: 48px;\">\n",
       "            <summary style=\"margin-bottom: 20px;\">\n",
       "                <h3 style=\"margin-bottom: 0px; display: inline;\">Item: urn:eop:VITO:ESA_WorldCover_10m_2020_V1:ESA_WorldCover_10m_2020_v100_N00E006</h3>\n",
       "            </summary>\n",
       "            <table style=\"width: 100%; text-align: left;\">\n",
       "                <tr><td style=\"text-align: left;\"><strong>id:</strong> urn:eop:VITO:ESA_WorldCover_10m_2020_V1:ESA_WorldCover_10m_2020_v100_N00E006 </td></tr>\n",
       "                \n",
       "                    <tr><td style=\"text-align: left;\"><strong>bbox:</strong> [6, 0, 9, 3] </td></tr>\n",
       "                \n",
       "                \n",
       "                    \n",
       "                        <tr><td style=\"text-align: left;\"><strong>datetime:</strong> 2020-12-31T23:59:59Z </td></tr>\n",
       "                    \n",
       "                        <tr><td style=\"text-align: left;\"><strong>title:</strong> ESA_WorldCover_10m_2020_v100_N00E006 </td></tr>\n",
       "                    \n",
       "                        <tr><td style=\"text-align: left;\"><strong>created:</strong> 2021-10-13T06:48:53Z </td></tr>\n",
       "                    \n",
       "                        <tr><td style=\"text-align: left;\"><strong>updated:</strong> 2021-10-14T21:57:35Z </td></tr>\n",
       "                    \n",
       "                        <tr><td style=\"text-align: left;\"><strong>start_datetime:</strong> 2020-01-01T00:00:00Z </td></tr>\n",
       "                    \n",
       "                        <tr><td style=\"text-align: left;\"><strong>end_datetime:</strong> 2020-12-31T23:59:59Z </td></tr>\n",
       "                    \n",
       "                \n",
       "                \n",
       "            </table>\n",
       "            \n",
       "            \n",
       "        <details>\n",
       "            <summary style=\"margin-bottom: 10px; margin-top: 10px;\">\n",
       "                <h4 style=\"margin-bottom: 0px; display: inline;\">Assets</h4>\n",
       "            </summary>\n",
       "            \n",
       "                \n",
       "\n",
       "<div class=\"jp-RenderedHTMLCommon jp-RenderedHTML jp-mod-trusted jp-OutputArea-output\">\n",
       "    <div style=\"\n",
       "        width: 24px;\n",
       "        height: 24px;\n",
       "        background-color: #FED7E5;\n",
       "        border: 3px solid #FA4C8C;\n",
       "        border-radius: 5px;\n",
       "        position: absolute;\">\n",
       "    </div>\n",
       "    <div>\n",
       "        <details style=\"margin-left: 48px;\">\n",
       "            <summary style=\"margin-bottom: 20px;\">\n",
       "                <h3 style=\"margin-bottom: 0px; display: inline;\">Asset:  ESA_WORLDCOVER_10M_INPUTQUALITY </h3>\n",
       "            </summary>\n",
       "            <table style=\"width: 100%; text-align: left;\">\n",
       "                <tr><td style=\"text-align: left;\"><strong>href:</strong> https://services.terrascope.be/download/WORLDCOVER/ESA_WORLDCOVER_10M_2020_V100/MAP/ESA_WorldCover_10m_2020_v100_N00E006_Map/ESA_WorldCover_10m_2020_v100_N00E006_InputQuality.tif </td></tr>\n",
       "                \n",
       "                    <tr><td style=\"text-align: left;\"><strong>type:</strong> image/tiff </td></tr>\n",
       "                \n",
       "                \n",
       "                    <tr><td style=\"text-align: left;\"><strong>title:</strong> ESA_WORLDCOVER_10M_INPUTQUALITY </td></tr>\n",
       "                \n",
       "                \n",
       "                \n",
       "                \n",
       "                    <tr><td style=\"text-align: left;\"><strong>owner:</strong> urn:eop:VITO:ESA_WorldCover_10m_2020_V1:ESA_WorldCover_10m_2020_v100_N00E006 </td></tr>\n",
       "                \n",
       "                \n",
       "            </table>\n",
       "        </details>\n",
       "    </div>\n",
       "</div>\n",
       "            \n",
       "                \n",
       "\n",
       "<div class=\"jp-RenderedHTMLCommon jp-RenderedHTML jp-mod-trusted jp-OutputArea-output\">\n",
       "    <div style=\"\n",
       "        width: 24px;\n",
       "        height: 24px;\n",
       "        background-color: #FED7E5;\n",
       "        border: 3px solid #FA4C8C;\n",
       "        border-radius: 5px;\n",
       "        position: absolute;\">\n",
       "    </div>\n",
       "    <div>\n",
       "        <details style=\"margin-left: 48px;\">\n",
       "            <summary style=\"margin-bottom: 20px;\">\n",
       "                <h3 style=\"margin-bottom: 0px; display: inline;\">Asset:  ESA_WORLDCOVER_10M_MAP </h3>\n",
       "            </summary>\n",
       "            <table style=\"width: 100%; text-align: left;\">\n",
       "                <tr><td style=\"text-align: left;\"><strong>href:</strong> https://services.terrascope.be/download/WORLDCOVER/ESA_WORLDCOVER_10M_2020_V100/MAP/ESA_WorldCover_10m_2020_v100_N00E006_Map/ESA_WorldCover_10m_2020_v100_N00E006_Map.tif </td></tr>\n",
       "                \n",
       "                    <tr><td style=\"text-align: left;\"><strong>type:</strong> image/tiff </td></tr>\n",
       "                \n",
       "                \n",
       "                    <tr><td style=\"text-align: left;\"><strong>title:</strong> ESA_WORLDCOVER_10M_MAP </td></tr>\n",
       "                \n",
       "                \n",
       "                \n",
       "                    <tr><td style=\"text-align: left;\"><strong>roles:</strong> ['data'] </td></tr>\n",
       "                \n",
       "                \n",
       "                    <tr><td style=\"text-align: left;\"><strong>owner:</strong> urn:eop:VITO:ESA_WorldCover_10m_2020_V1:ESA_WorldCover_10m_2020_v100_N00E006 </td></tr>\n",
       "                \n",
       "                \n",
       "            </table>\n",
       "        </details>\n",
       "    </div>\n",
       "</div>\n",
       "            \n",
       "        </details>\n",
       "    \n",
       "            \n",
       "        <details>\n",
       "            <summary style=\"margin-bottom: 10px; margin-top: 10px\">\n",
       "                <h4 style=\"margin-bottom: 0px; display: inline;\">Links</h4>\n",
       "            </summary>\n",
       "            \n",
       "                \n",
       "\n",
       "<div class=\"jp-RenderedHTMLCommon jp-RenderedHTML jp-mod-trusted jp-OutputArea-output\">\n",
       "    <div style=\"\n",
       "        width: 24px;\n",
       "        height: 24px;\n",
       "        background-color: #FFF7E5;\n",
       "        border: 3px solid #FF6132;\n",
       "        border-radius: 5px;\n",
       "        position: absolute;\">\n",
       "    </div>\n",
       "    <div style=\"margin-left: 48px;\">\n",
       "        <h4 style=\"margin-bottom: 0px;\">Link: </h4>\n",
       "        <table style=\"width: 100%; text-align: left;\">\n",
       "            <tr><td style=\"text-align: left;\"><strong>rel:</strong> self </td></tr>\n",
       "            <tr><td style=\"text-align: left;\"><strong>href:</strong> https://mqs.eodc.eu/stac/v1/collections/VITO|urn:eop:VITO:ESA_WorldCover_10m_2020_V1/items/urn:eop:VITO:ESA_WorldCover_10m_2020_V1:ESA_WorldCover_10m_2020_v100_N00E006 </td></tr>\n",
       "            \n",
       "                <tr><td style=\"text-align: left;\"><strong>type:</strong> application/geo+json </td></tr>\n",
       "            \n",
       "            \n",
       "            \n",
       "        </table>\n",
       "        \n",
       "    </div>\n",
       "</div>\n",
       "            \n",
       "                \n",
       "\n",
       "<div class=\"jp-RenderedHTMLCommon jp-RenderedHTML jp-mod-trusted jp-OutputArea-output\">\n",
       "    <div style=\"\n",
       "        width: 24px;\n",
       "        height: 24px;\n",
       "        background-color: #FFF7E5;\n",
       "        border: 3px solid #FF6132;\n",
       "        border-radius: 5px;\n",
       "        position: absolute;\">\n",
       "    </div>\n",
       "    <div style=\"margin-left: 48px;\">\n",
       "        <h4 style=\"margin-bottom: 0px;\">Link: </h4>\n",
       "        <table style=\"width: 100%; text-align: left;\">\n",
       "            <tr><td style=\"text-align: left;\"><strong>rel:</strong> parent </td></tr>\n",
       "            <tr><td style=\"text-align: left;\"><strong>href:</strong> https://mqs.eodc.eu/stac/v1/collections/VITO|urn:eop:VITO:ESA_WorldCover_10m_2020_V1 </td></tr>\n",
       "            \n",
       "                <tr><td style=\"text-align: left;\"><strong>type:</strong> application/json </td></tr>\n",
       "            \n",
       "            \n",
       "            \n",
       "        </table>\n",
       "        \n",
       "    </div>\n",
       "</div>\n",
       "            \n",
       "                \n",
       "\n",
       "<div class=\"jp-RenderedHTMLCommon jp-RenderedHTML jp-mod-trusted jp-OutputArea-output\">\n",
       "    <div style=\"\n",
       "        width: 24px;\n",
       "        height: 24px;\n",
       "        background-color: #FFF7E5;\n",
       "        border: 3px solid #FF6132;\n",
       "        border-radius: 5px;\n",
       "        position: absolute;\">\n",
       "    </div>\n",
       "    <div style=\"margin-left: 48px;\">\n",
       "        <h4 style=\"margin-bottom: 0px;\">Link: </h4>\n",
       "        <table style=\"width: 100%; text-align: left;\">\n",
       "            <tr><td style=\"text-align: left;\"><strong>rel:</strong> collection </td></tr>\n",
       "            <tr><td style=\"text-align: left;\"><strong>href:</strong> https://mqs.eodc.eu/stac/v1/collections/VITO|urn:eop:VITO:ESA_WorldCover_10m_2020_V1 </td></tr>\n",
       "            \n",
       "                <tr><td style=\"text-align: left;\"><strong>type:</strong> application/json </td></tr>\n",
       "            \n",
       "            \n",
       "            \n",
       "        </table>\n",
       "        \n",
       "    </div>\n",
       "</div>\n",
       "            \n",
       "                \n",
       "\n",
       "<div class=\"jp-RenderedHTMLCommon jp-RenderedHTML jp-mod-trusted jp-OutputArea-output\">\n",
       "    <div style=\"\n",
       "        width: 24px;\n",
       "        height: 24px;\n",
       "        background-color: #FFF7E5;\n",
       "        border: 3px solid #FF6132;\n",
       "        border-radius: 5px;\n",
       "        position: absolute;\">\n",
       "    </div>\n",
       "    <div style=\"margin-left: 48px;\">\n",
       "        <h4 style=\"margin-bottom: 0px;\">Link: </h4>\n",
       "        <table style=\"width: 100%; text-align: left;\">\n",
       "            <tr><td style=\"text-align: left;\"><strong>rel:</strong> root </td></tr>\n",
       "            <tr><td style=\"text-align: left;\"><strong>href:</strong> https://mqs.eodc.eu/stac/v1/ </td></tr>\n",
       "            \n",
       "                <tr><td style=\"text-align: left;\"><strong>type:</strong> application/json </td></tr>\n",
       "            \n",
       "            \n",
       "            \n",
       "        </table>\n",
       "        \n",
       "    </div>\n",
       "</div>\n",
       "            \n",
       "        </details>\n",
       "    \n",
       "        </details>\n",
       "    </div>\n",
       "</div>\n",
       "            \n",
       "        </details>\n",
       "    \n",
       "            \n",
       "        <details>\n",
       "            <summary style=\"margin-bottom: 10px; margin-top: 10px\">\n",
       "                <h4 style=\"margin-bottom: 0px; display: inline;\">Links</h4>\n",
       "            </summary>\n",
       "            \n",
       "                \n",
       "\n",
       "<div class=\"jp-RenderedHTMLCommon jp-RenderedHTML jp-mod-trusted jp-OutputArea-output\">\n",
       "    <div style=\"\n",
       "        width: 24px;\n",
       "        height: 24px;\n",
       "        background-color: #FFF7E5;\n",
       "        border: 3px solid #FF6132;\n",
       "        border-radius: 5px;\n",
       "        position: absolute;\">\n",
       "    </div>\n",
       "    <div style=\"margin-left: 48px;\">\n",
       "        <h4 style=\"margin-bottom: 0px;\">Link: </h4>\n",
       "        <table style=\"width: 100%; text-align: left;\">\n",
       "            <tr><td style=\"text-align: left;\"><strong>rel:</strong> self </td></tr>\n",
       "            <tr><td style=\"text-align: left;\"><strong>href:</strong> https://mqs.eodc.eu/stac/v1/collections/VITO|urn:eop:VITO:ESA_WorldCover_10m_2020_V1 </td></tr>\n",
       "            \n",
       "                <tr><td style=\"text-align: left;\"><strong>type:</strong> application/json </td></tr>\n",
       "            \n",
       "            \n",
       "            \n",
       "        </table>\n",
       "        \n",
       "    </div>\n",
       "</div>\n",
       "            \n",
       "                \n",
       "\n",
       "<div class=\"jp-RenderedHTMLCommon jp-RenderedHTML jp-mod-trusted jp-OutputArea-output\">\n",
       "    <div style=\"\n",
       "        width: 24px;\n",
       "        height: 24px;\n",
       "        background-color: #FFF7E5;\n",
       "        border: 3px solid #FF6132;\n",
       "        border-radius: 5px;\n",
       "        position: absolute;\">\n",
       "    </div>\n",
       "    <div style=\"margin-left: 48px;\">\n",
       "        <h4 style=\"margin-bottom: 0px;\">Link: </h4>\n",
       "        <table style=\"width: 100%; text-align: left;\">\n",
       "            <tr><td style=\"text-align: left;\"><strong>rel:</strong> parent </td></tr>\n",
       "            <tr><td style=\"text-align: left;\"><strong>href:</strong> https://mqs.eodc.eu/stac/v1/ </td></tr>\n",
       "            \n",
       "                <tr><td style=\"text-align: left;\"><strong>type:</strong> application/json </td></tr>\n",
       "            \n",
       "            \n",
       "            \n",
       "        </table>\n",
       "        \n",
       "    </div>\n",
       "</div>\n",
       "            \n",
       "                \n",
       "\n",
       "<div class=\"jp-RenderedHTMLCommon jp-RenderedHTML jp-mod-trusted jp-OutputArea-output\">\n",
       "    <div style=\"\n",
       "        width: 24px;\n",
       "        height: 24px;\n",
       "        background-color: #FFF7E5;\n",
       "        border: 3px solid #FF6132;\n",
       "        border-radius: 5px;\n",
       "        position: absolute;\">\n",
       "    </div>\n",
       "    <div style=\"margin-left: 48px;\">\n",
       "        <h4 style=\"margin-bottom: 0px;\">Link: </h4>\n",
       "        <table style=\"width: 100%; text-align: left;\">\n",
       "            <tr><td style=\"text-align: left;\"><strong>rel:</strong> items </td></tr>\n",
       "            <tr><td style=\"text-align: left;\"><strong>href:</strong> https://mqs.eodc.eu/stac/v1/collections/VITO|urn:eop:VITO:ESA_WorldCover_10m_2020_V1/items </td></tr>\n",
       "            \n",
       "                <tr><td style=\"text-align: left;\"><strong>type:</strong> application/geo+json </td></tr>\n",
       "            \n",
       "            \n",
       "            \n",
       "        </table>\n",
       "        \n",
       "    </div>\n",
       "</div>\n",
       "            \n",
       "                \n",
       "\n",
       "<div class=\"jp-RenderedHTMLCommon jp-RenderedHTML jp-mod-trusted jp-OutputArea-output\">\n",
       "    <div style=\"\n",
       "        width: 24px;\n",
       "        height: 24px;\n",
       "        background-color: #FFF7E5;\n",
       "        border: 3px solid #FF6132;\n",
       "        border-radius: 5px;\n",
       "        position: absolute;\">\n",
       "    </div>\n",
       "    <div style=\"margin-left: 48px;\">\n",
       "        <h4 style=\"margin-bottom: 0px;\">Link:  C-SCALE Earth Observation Metadata Query Service (EO-MQS) </h4>\n",
       "        <table style=\"width: 100%; text-align: left;\">\n",
       "            <tr><td style=\"text-align: left;\"><strong>rel:</strong> root </td></tr>\n",
       "            <tr><td style=\"text-align: left;\"><strong>href:</strong> https://mqs.eodc.eu/stac/v1 </td></tr>\n",
       "            \n",
       "                <tr><td style=\"text-align: left;\"><strong>type:</strong> application/json </td></tr>\n",
       "            \n",
       "            \n",
       "                <tr><td style=\"text-align: left;\"><strong>title:</strong> C-SCALE Earth Observation Metadata Query Service (EO-MQS) </td></tr>\n",
       "            \n",
       "            \n",
       "        </table>\n",
       "        \n",
       "    </div>\n",
       "</div>\n",
       "            \n",
       "        </details>\n",
       "    \n",
       "            \n",
       "    \n",
       "\n",
       "        </details>\n",
       "    </div>\n",
       "</div>"
      ],
      "text/plain": [
       "<CollectionClient id=VITO|urn:eop:VITO:ESA_WorldCover_10m_2020_V1>"
      ]
     },
     "execution_count": 5,
     "metadata": {},
     "output_type": "execute_result"
    }
   ],
   "source": [
    "collection = client.get_collection(\"VITO|urn:eop:VITO:ESA_WorldCover_10m_2020_V1\")\n",
    "#collection = client.get_collection(\"sentinel-2-l1c\")\n",
    "collection"
   ]
  },
  {
   "cell_type": "markdown",
   "id": "1b0eae35-b48c-4a5d-a539-612dd8ec9352",
   "metadata": {},
   "source": [
    "There are many ways to access the collection metadata programmatically. "
   ]
  },
  {
   "cell_type": "code",
   "execution_count": 6,
   "id": "ee14cda4-1e9a-47b1-a234-2e7d59060efd",
   "metadata": {
    "tags": []
   },
   "outputs": [
    {
     "name": "stdout",
     "output_type": "stream",
     "text": [
      "This collection contains data in the following temporal inteval: {'interval': [['2021-06-01T00:00:00Z', None]]}\n"
     ]
    }
   ],
   "source": [
    "print(f\"This collection contains data in the following temporal inteval: {collection.extent.temporal.to_dict()}\")"
   ]
  },
  {
   "cell_type": "code",
   "execution_count": 7,
   "id": "715d5a0a-cdb4-40e5-b529-ea6538f6838e",
   "metadata": {
    "tags": []
   },
   "outputs": [],
   "source": [
    "# To verify this extent, we can calculate the actual limits like this:\n",
    "collection.update_extent_from_items()"
   ]
  },
  {
   "cell_type": "code",
   "execution_count": 8,
   "id": "cbd0076b-97fc-44c1-bc26-3556cfd3b8b5",
   "metadata": {
    "tags": []
   },
   "outputs": [
    {
     "data": {
      "text/plain": [
       "{'interval': [['2020-01-01T00:00:00Z', '2020-12-31T23:59:59Z']]}"
      ]
     },
     "execution_count": 8,
     "metadata": {},
     "output_type": "execute_result"
    }
   ],
   "source": [
    "collection.extent.temporal.to_dict()"
   ]
  },
  {
   "cell_type": "code",
   "execution_count": 9,
   "id": "c5bbfb77-d1a6-4898-957d-2d007339a15a",
   "metadata": {
    "tags": []
   },
   "outputs": [
    {
     "data": {
      "text/plain": [
       "[]"
      ]
     },
     "execution_count": 9,
     "metadata": {},
     "output_type": "execute_result"
    }
   ],
   "source": [
    "# Check which STAC Extensions are used by the collection\n",
    "collection.stac_extensions"
   ]
  },
  {
   "cell_type": "markdown",
   "id": "8cb50096-da7c-4c6d-9010-f40e05ef6d36",
   "metadata": {},
   "source": [
    "## STAC Items\n",
    "\n",
    "Simlarly to before, we can use the collection client instance to iterate over the items contained in the collection. The server must provide the `/collections/<collection_id>/items` endpoint to support this feature automatically. This can be useful to manually filter items or extract information programmatically. The `get_all_items()` method again returns an iterator."
   ]
  },
  {
   "cell_type": "code",
   "execution_count": 10,
   "id": "3a41824b-db9e-45e5-bd83-213376fc90a1",
   "metadata": {
    "tags": []
   },
   "outputs": [],
   "source": [
    "items = collection.get_all_items()"
   ]
  },
  {
   "cell_type": "code",
   "execution_count": 15,
   "id": "c3a63df9-a90d-4ff6-bce1-7efcb6862098",
   "metadata": {
    "tags": []
   },
   "outputs": [
    {
     "name": "stdout",
     "output_type": "stream",
     "text": [
      "Append item urn:eop:VITO:ESA_WorldCover_10m_2020_V1:ESA_WorldCover_10m_2020_v100_N00E015\n",
      "Append item urn:eop:VITO:ESA_WorldCover_10m_2020_V1:ESA_WorldCover_10m_2020_v100_N00E018\n",
      "Append item urn:eop:VITO:ESA_WorldCover_10m_2020_V1:ESA_WorldCover_10m_2020_v100_N00E021\n",
      "Append item urn:eop:VITO:ESA_WorldCover_10m_2020_V1:ESA_WorldCover_10m_2020_v100_N00E024\n",
      "Append item urn:eop:VITO:ESA_WorldCover_10m_2020_V1:ESA_WorldCover_10m_2020_v100_N00E027\n",
      "Append item urn:eop:VITO:ESA_WorldCover_10m_2020_V1:ESA_WorldCover_10m_2020_v100_N00E030\n",
      "Append item urn:eop:VITO:ESA_WorldCover_10m_2020_V1:ESA_WorldCover_10m_2020_v100_N00E033\n",
      "Append item urn:eop:VITO:ESA_WorldCover_10m_2020_V1:ESA_WorldCover_10m_2020_v100_N00E036\n",
      "Append item urn:eop:VITO:ESA_WorldCover_10m_2020_V1:ESA_WorldCover_10m_2020_v100_N00E039\n",
      "Append item urn:eop:VITO:ESA_WorldCover_10m_2020_V1:ESA_WorldCover_10m_2020_v100_N00E042\n"
     ]
    }
   ],
   "source": [
    "# Load 10 items\n",
    "items10 = []\n",
    "for n, item in enumerate(items):\n",
    "    if len(items10) == 10:\n",
    "        break\n",
    "    print(f\"Append item {item.id}\")\n",
    "    items10.append(item)"
   ]
  },
  {
   "cell_type": "code",
   "execution_count": 16,
   "id": "194d67f2-c680-49dd-b1cb-a8fd5b943c33",
   "metadata": {
    "tags": []
   },
   "outputs": [
    {
     "data": {
      "text/html": [
       "\n",
       "\n",
       "<div class=\"jp-RenderedHTMLCommon jp-RenderedHTML jp-mod-trusted jp-OutputArea-output\">\n",
       "    <div style=\"\n",
       "        width: 24px;\n",
       "        height: 24px;\n",
       "        background-color: #DBF5FF;\n",
       "        border: 3px solid #4CC9FF;\n",
       "        border-radius: 5px;\n",
       "        position: absolute;\">\n",
       "    </div>\n",
       "    <div>\n",
       "        <details style=\"margin-left: 48px;\">\n",
       "            <summary style=\"margin-bottom: 20px;\">\n",
       "                <h3 style=\"margin-bottom: 0px; display: inline;\">Item: urn:eop:VITO:ESA_WorldCover_10m_2020_V1:ESA_WorldCover_10m_2020_v100_N00E042</h3>\n",
       "            </summary>\n",
       "            <table style=\"width: 100%; text-align: left;\">\n",
       "                <tr><td style=\"text-align: left;\"><strong>id:</strong> urn:eop:VITO:ESA_WorldCover_10m_2020_V1:ESA_WorldCover_10m_2020_v100_N00E042 </td></tr>\n",
       "                \n",
       "                    <tr><td style=\"text-align: left;\"><strong>bbox:</strong> [42, 0, 45, 3] </td></tr>\n",
       "                \n",
       "                \n",
       "                    \n",
       "                        <tr><td style=\"text-align: left;\"><strong>datetime:</strong> 2020-12-31T23:59:59Z </td></tr>\n",
       "                    \n",
       "                        <tr><td style=\"text-align: left;\"><strong>title:</strong> ESA_WorldCover_10m_2020_v100_N00E042 </td></tr>\n",
       "                    \n",
       "                        <tr><td style=\"text-align: left;\"><strong>created:</strong> 2021-10-13T06:53:05Z </td></tr>\n",
       "                    \n",
       "                        <tr><td style=\"text-align: left;\"><strong>updated:</strong> 2021-10-14T21:57:47Z </td></tr>\n",
       "                    \n",
       "                        <tr><td style=\"text-align: left;\"><strong>start_datetime:</strong> 2020-01-01T00:00:00Z </td></tr>\n",
       "                    \n",
       "                        <tr><td style=\"text-align: left;\"><strong>end_datetime:</strong> 2020-12-31T23:59:59Z </td></tr>\n",
       "                    \n",
       "                \n",
       "                \n",
       "            </table>\n",
       "            \n",
       "            \n",
       "        <details>\n",
       "            <summary style=\"margin-bottom: 10px; margin-top: 10px;\">\n",
       "                <h4 style=\"margin-bottom: 0px; display: inline;\">Assets</h4>\n",
       "            </summary>\n",
       "            \n",
       "                \n",
       "\n",
       "<div class=\"jp-RenderedHTMLCommon jp-RenderedHTML jp-mod-trusted jp-OutputArea-output\">\n",
       "    <div style=\"\n",
       "        width: 24px;\n",
       "        height: 24px;\n",
       "        background-color: #FED7E5;\n",
       "        border: 3px solid #FA4C8C;\n",
       "        border-radius: 5px;\n",
       "        position: absolute;\">\n",
       "    </div>\n",
       "    <div>\n",
       "        <details style=\"margin-left: 48px;\">\n",
       "            <summary style=\"margin-bottom: 20px;\">\n",
       "                <h3 style=\"margin-bottom: 0px; display: inline;\">Asset:  ESA_WORLDCOVER_10M_INPUTQUALITY </h3>\n",
       "            </summary>\n",
       "            <table style=\"width: 100%; text-align: left;\">\n",
       "                <tr><td style=\"text-align: left;\"><strong>href:</strong> https://services.terrascope.be/download/WORLDCOVER/ESA_WORLDCOVER_10M_2020_V100/MAP/ESA_WorldCover_10m_2020_v100_N00E042_Map/ESA_WorldCover_10m_2020_v100_N00E042_InputQuality.tif </td></tr>\n",
       "                \n",
       "                    <tr><td style=\"text-align: left;\"><strong>type:</strong> image/tiff </td></tr>\n",
       "                \n",
       "                \n",
       "                    <tr><td style=\"text-align: left;\"><strong>title:</strong> ESA_WORLDCOVER_10M_INPUTQUALITY </td></tr>\n",
       "                \n",
       "                \n",
       "                \n",
       "                \n",
       "                    <tr><td style=\"text-align: left;\"><strong>owner:</strong> urn:eop:VITO:ESA_WorldCover_10m_2020_V1:ESA_WorldCover_10m_2020_v100_N00E042 </td></tr>\n",
       "                \n",
       "                \n",
       "            </table>\n",
       "        </details>\n",
       "    </div>\n",
       "</div>\n",
       "            \n",
       "                \n",
       "\n",
       "<div class=\"jp-RenderedHTMLCommon jp-RenderedHTML jp-mod-trusted jp-OutputArea-output\">\n",
       "    <div style=\"\n",
       "        width: 24px;\n",
       "        height: 24px;\n",
       "        background-color: #FED7E5;\n",
       "        border: 3px solid #FA4C8C;\n",
       "        border-radius: 5px;\n",
       "        position: absolute;\">\n",
       "    </div>\n",
       "    <div>\n",
       "        <details style=\"margin-left: 48px;\">\n",
       "            <summary style=\"margin-bottom: 20px;\">\n",
       "                <h3 style=\"margin-bottom: 0px; display: inline;\">Asset:  ESA_WORLDCOVER_10M_MAP </h3>\n",
       "            </summary>\n",
       "            <table style=\"width: 100%; text-align: left;\">\n",
       "                <tr><td style=\"text-align: left;\"><strong>href:</strong> https://services.terrascope.be/download/WORLDCOVER/ESA_WORLDCOVER_10M_2020_V100/MAP/ESA_WorldCover_10m_2020_v100_N00E042_Map/ESA_WorldCover_10m_2020_v100_N00E042_Map.tif </td></tr>\n",
       "                \n",
       "                    <tr><td style=\"text-align: left;\"><strong>type:</strong> image/tiff </td></tr>\n",
       "                \n",
       "                \n",
       "                    <tr><td style=\"text-align: left;\"><strong>title:</strong> ESA_WORLDCOVER_10M_MAP </td></tr>\n",
       "                \n",
       "                \n",
       "                \n",
       "                    <tr><td style=\"text-align: left;\"><strong>roles:</strong> ['data'] </td></tr>\n",
       "                \n",
       "                \n",
       "                    <tr><td style=\"text-align: left;\"><strong>owner:</strong> urn:eop:VITO:ESA_WorldCover_10m_2020_V1:ESA_WorldCover_10m_2020_v100_N00E042 </td></tr>\n",
       "                \n",
       "                \n",
       "            </table>\n",
       "        </details>\n",
       "    </div>\n",
       "</div>\n",
       "            \n",
       "        </details>\n",
       "    \n",
       "            \n",
       "        <details>\n",
       "            <summary style=\"margin-bottom: 10px; margin-top: 10px\">\n",
       "                <h4 style=\"margin-bottom: 0px; display: inline;\">Links</h4>\n",
       "            </summary>\n",
       "            \n",
       "                \n",
       "\n",
       "<div class=\"jp-RenderedHTMLCommon jp-RenderedHTML jp-mod-trusted jp-OutputArea-output\">\n",
       "    <div style=\"\n",
       "        width: 24px;\n",
       "        height: 24px;\n",
       "        background-color: #FFF7E5;\n",
       "        border: 3px solid #FF6132;\n",
       "        border-radius: 5px;\n",
       "        position: absolute;\">\n",
       "    </div>\n",
       "    <div style=\"margin-left: 48px;\">\n",
       "        <h4 style=\"margin-bottom: 0px;\">Link: </h4>\n",
       "        <table style=\"width: 100%; text-align: left;\">\n",
       "            <tr><td style=\"text-align: left;\"><strong>rel:</strong> self </td></tr>\n",
       "            <tr><td style=\"text-align: left;\"><strong>href:</strong> https://mqs.eodc.eu/stac/v1/collections/VITO|urn:eop:VITO:ESA_WorldCover_10m_2020_V1/items/urn:eop:VITO:ESA_WorldCover_10m_2020_V1:ESA_WorldCover_10m_2020_v100_N00E042 </td></tr>\n",
       "            \n",
       "                <tr><td style=\"text-align: left;\"><strong>type:</strong> application/geo+json </td></tr>\n",
       "            \n",
       "            \n",
       "            \n",
       "        </table>\n",
       "        \n",
       "    </div>\n",
       "</div>\n",
       "            \n",
       "                \n",
       "\n",
       "<div class=\"jp-RenderedHTMLCommon jp-RenderedHTML jp-mod-trusted jp-OutputArea-output\">\n",
       "    <div style=\"\n",
       "        width: 24px;\n",
       "        height: 24px;\n",
       "        background-color: #FFF7E5;\n",
       "        border: 3px solid #FF6132;\n",
       "        border-radius: 5px;\n",
       "        position: absolute;\">\n",
       "    </div>\n",
       "    <div style=\"margin-left: 48px;\">\n",
       "        <h4 style=\"margin-bottom: 0px;\">Link: </h4>\n",
       "        <table style=\"width: 100%; text-align: left;\">\n",
       "            <tr><td style=\"text-align: left;\"><strong>rel:</strong> parent </td></tr>\n",
       "            <tr><td style=\"text-align: left;\"><strong>href:</strong> https://mqs.eodc.eu/stac/v1/collections/VITO|urn:eop:VITO:ESA_WorldCover_10m_2020_V1 </td></tr>\n",
       "            \n",
       "                <tr><td style=\"text-align: left;\"><strong>type:</strong> application/json </td></tr>\n",
       "            \n",
       "            \n",
       "            \n",
       "        </table>\n",
       "        \n",
       "    </div>\n",
       "</div>\n",
       "            \n",
       "                \n",
       "\n",
       "<div class=\"jp-RenderedHTMLCommon jp-RenderedHTML jp-mod-trusted jp-OutputArea-output\">\n",
       "    <div style=\"\n",
       "        width: 24px;\n",
       "        height: 24px;\n",
       "        background-color: #FFF7E5;\n",
       "        border: 3px solid #FF6132;\n",
       "        border-radius: 5px;\n",
       "        position: absolute;\">\n",
       "    </div>\n",
       "    <div style=\"margin-left: 48px;\">\n",
       "        <h4 style=\"margin-bottom: 0px;\">Link: </h4>\n",
       "        <table style=\"width: 100%; text-align: left;\">\n",
       "            <tr><td style=\"text-align: left;\"><strong>rel:</strong> collection </td></tr>\n",
       "            <tr><td style=\"text-align: left;\"><strong>href:</strong> https://mqs.eodc.eu/stac/v1/collections/VITO|urn:eop:VITO:ESA_WorldCover_10m_2020_V1 </td></tr>\n",
       "            \n",
       "                <tr><td style=\"text-align: left;\"><strong>type:</strong> application/json </td></tr>\n",
       "            \n",
       "            \n",
       "            \n",
       "        </table>\n",
       "        \n",
       "    </div>\n",
       "</div>\n",
       "            \n",
       "                \n",
       "\n",
       "<div class=\"jp-RenderedHTMLCommon jp-RenderedHTML jp-mod-trusted jp-OutputArea-output\">\n",
       "    <div style=\"\n",
       "        width: 24px;\n",
       "        height: 24px;\n",
       "        background-color: #FFF7E5;\n",
       "        border: 3px solid #FF6132;\n",
       "        border-radius: 5px;\n",
       "        position: absolute;\">\n",
       "    </div>\n",
       "    <div style=\"margin-left: 48px;\">\n",
       "        <h4 style=\"margin-bottom: 0px;\">Link: </h4>\n",
       "        <table style=\"width: 100%; text-align: left;\">\n",
       "            <tr><td style=\"text-align: left;\"><strong>rel:</strong> root </td></tr>\n",
       "            <tr><td style=\"text-align: left;\"><strong>href:</strong> https://mqs.eodc.eu/stac/v1/ </td></tr>\n",
       "            \n",
       "                <tr><td style=\"text-align: left;\"><strong>type:</strong> application/json </td></tr>\n",
       "            \n",
       "            \n",
       "            \n",
       "        </table>\n",
       "        \n",
       "    </div>\n",
       "</div>\n",
       "            \n",
       "        </details>\n",
       "    \n",
       "        </details>\n",
       "    </div>\n",
       "</div>"
      ],
      "text/plain": [
       "<Item id=urn:eop:VITO:ESA_WorldCover_10m_2020_V1:ESA_WorldCover_10m_2020_v100_N00E042>"
      ]
     },
     "execution_count": 16,
     "metadata": {},
     "output_type": "execute_result"
    }
   ],
   "source": [
    "items10[-1]"
   ]
  },
  {
   "cell_type": "code",
   "execution_count": 17,
   "id": "6f738e1f-bed0-474e-883f-cd8bdcb8699c",
   "metadata": {
    "tags": []
   },
   "outputs": [
    {
     "ename": "KeyError",
     "evalue": "'thumbnail-png'",
     "output_type": "error",
     "traceback": [
      "\u001b[0;31m---------------------------------------------------------------------------\u001b[0m",
      "\u001b[0;31mKeyError\u001b[0m                                  Traceback (most recent call last)",
      "Cell \u001b[0;32mIn [17], line 4\u001b[0m\n\u001b[1;32m      1\u001b[0m \u001b[38;5;66;03m# If the item provides a previeww image we can look at it in here using the following code\u001b[39;00m\n\u001b[1;32m      2\u001b[0m \u001b[38;5;28;01mfrom\u001b[39;00m \u001b[38;5;21;01mIPython\u001b[39;00m\u001b[38;5;21;01m.\u001b[39;00m\u001b[38;5;21;01mdisplay\u001b[39;00m \u001b[38;5;28;01mimport\u001b[39;00m Image\n\u001b[0;32m----> 4\u001b[0m Image(url\u001b[38;5;241m=\u001b[39m\u001b[43mitems10\u001b[49m\u001b[43m[\u001b[49m\u001b[38;5;241;43m-\u001b[39;49m\u001b[38;5;241;43m1\u001b[39;49m\u001b[43m]\u001b[49m\u001b[38;5;241;43m.\u001b[39;49m\u001b[43massets\u001b[49m\u001b[43m[\u001b[49m\u001b[38;5;124;43m\"\u001b[39;49m\u001b[38;5;124;43mthumbnail-png\u001b[39;49m\u001b[38;5;124;43m\"\u001b[39;49m\u001b[43m]\u001b[49m\u001b[38;5;241m.\u001b[39mhref, width\u001b[38;5;241m=\u001b[39m\u001b[38;5;241m500\u001b[39m)\n",
      "\u001b[0;31mKeyError\u001b[0m: 'thumbnail-png'"
     ]
    }
   ],
   "source": [
    "# If the item provides a previeww image we can look at it in here using the following code\n",
    "from IPython.display import Image\n",
    "\n",
    "Image(url=items10[-1].assets[\"ESA_WORLDCOVER_10M_MAP\"].href, width=500)"
   ]
  },
  {
   "cell_type": "markdown",
   "id": "dd966048-b294-45b8-b2f3-6ae55fc99c86",
   "metadata": {},
   "source": [
    "## Item Search\n",
    "\n",
    "Data providers that have realized their STAC implementation in terms of a dynamic STAC API offer users the opportunity to search their Catalogs using spatial and temporal constraints. The `pystac_client` enables this search via the class method `search`. This function returns an ItemSearch instance that can further be accessed to retrieve matched items.\n",
    "\n",
    "Note that in its current implementation, the EO-MQS supports the *core* STAC search endpoint paramters as described in the [STAC API - Item Search](https://github.com/radiantearth/stac-api-spec/tree/master/item-search#query-parameter-table) specification. Those are:\n",
    "- limit\n",
    "- bbox\n",
    "- datetime\n",
    "- intersects\n",
    "- ids\n",
    "- collections\n"
   ]
  },
  {
   "cell_type": "markdown",
   "id": "a8b6cf11-76a8-4774-98ea-f7c497fb874b",
   "metadata": {},
   "source": [
    "### Example 1: Search for Sentinel-1 GRD data over Austria (bbox) in 2022\n",
    "\n",
    "This first example makes use of the `bbox`, `datetime` and the `collections` parameters. Learn about the correct formatting of these values on the STAC Spec GitHub page or by looking at the [pystac-client docs](https://pystac-client.readthedocs.io/en/latest/api.html#item-search)."
   ]
  },
  {
   "cell_type": "code",
   "execution_count": null,
   "id": "7a382c43-08f1-4146-afa0-44b46831c9a0",
   "metadata": {
    "tags": []
   },
   "outputs": [],
   "source": [
    "# We can iterate and grep the collections automatically or look it up in the browser or API\n",
    "s1_collections = []\n",
    "for collection in client.get_collections():\n",
    "    if \"grd\" in collection.id.lower() :\n",
    "        print(f\"Append collection {collection.id} to list of Sentinel-1 collections.\")\n",
    "        s1_collections.append(collection.id)\n",
    "\n",
    "# manually add collections as requried\n",
    "s1_collections.append(\"CREODIAS|SENTINEL-1\")"
   ]
  },
  {
   "cell_type": "markdown",
   "id": "79244537-9c56-463b-8699-17d91b23b278",
   "metadata": {},
   "source": [
    "If you do not have bbox coordinates at hand, you can quickly create your region of interest at [geojson.io](https://geojson.io)."
   ]
  },
  {
   "cell_type": "code",
   "execution_count": null,
   "id": "f7626437-4c17-4eef-8867-9f7fb8c54bee",
   "metadata": {
    "tags": []
   },
   "outputs": [],
   "source": [
    "bbox_aut = [9.25, 46.31, 17.46, 49.18]\n",
    "time_period = \"2022-01-01/2022-10-31\"\n",
    "limit = 20 # limit the number of items to be returned (per data provider)"
   ]
  },
  {
   "cell_type": "code",
   "execution_count": null,
   "id": "e109bb22-e390-49ce-a4a9-979f6ea92771",
   "metadata": {
    "tags": []
   },
   "outputs": [],
   "source": [
    "# put together the search dictionary\n",
    "search1 = {\"collections\": s1_collections,\n",
    "           \"bbox\": bbox_aut,\n",
    "           \"datetime\": time_period,\n",
    "           \"limit\": limit}    "
   ]
  },
  {
   "cell_type": "code",
   "execution_count": null,
   "id": "df4d6f6a-865e-4687-a259-39d7c1301e50",
   "metadata": {
    "tags": []
   },
   "outputs": [],
   "source": [
    "results1 = client.search(**search1)"
   ]
  },
  {
   "cell_type": "code",
   "execution_count": null,
   "id": "00d8e205-3e3c-4654-9a7f-120edf7a019d",
   "metadata": {
    "tags": []
   },
   "outputs": [],
   "source": [
    "items = results1.item_collection()\n",
    "\n",
    "print(f\"We found {len(items)} matching items.\")"
   ]
  },
  {
   "cell_type": "markdown",
   "id": "58968cb8-0e57-4462-b7ad-5e758bb00082",
   "metadata": {},
   "source": [
    "#### Tips on how to increase match rate"
   ]
  },
  {
   "cell_type": "markdown",
   "id": "3ab57f20-0374-49b0-92b5-94a7850fd60c",
   "metadata": {},
   "source": [
    "**NOTE:** Depending on the backend implementation, the `collections` parameter might have restrictions on allowed values. To make sure all possible items are fetched, consider iterating over the collections in our list and issue separate requests."
   ]
  },
  {
   "cell_type": "code",
   "execution_count": null,
   "id": "e3ffb1f4-9ffe-48d1-a147-5ee51cb64c51",
   "metadata": {
    "tags": []
   },
   "outputs": [],
   "source": [
    "items_list = []\n",
    "for s1_collection in s1_collections:\n",
    "    results = client.search(collections=[s1_collection], \n",
    "                            bbox=bbox_aut, \n",
    "                            datetime=time_period, \n",
    "                            limit=limit)\n",
    "    try:\n",
    "        items_list.extend(results.item_collection())\n",
    "    except:\n",
    "        print(f\"Search for items with collection id {s1_collection} failed or no items found.\")\n"
   ]
  },
  {
   "cell_type": "code",
   "execution_count": null,
   "id": "0c949ff5-69f3-4496-94b9-f5db70cd3c01",
   "metadata": {
    "tags": []
   },
   "outputs": [],
   "source": [
    "print(f\"Now, we found {len(items_list)} matching items.\")"
   ]
  },
  {
   "cell_type": "markdown",
   "id": "ad5f2180-6265-429d-a25e-2534196affb0",
   "metadata": {},
   "source": [
    "**NOTE:** By default, `pystac_client.search` will choose the HTTP method *POST* when making requests to the STAC API. Some data providers will only allow *GET* requests! Potentially available datasets might therefore remain undetected. *Hint: specify the method explicitly.*"
   ]
  },
  {
   "cell_type": "code",
   "execution_count": null,
   "id": "e6beedc0-aa72-4f0e-a2e7-e4b50bf7a5de",
   "metadata": {
    "tags": []
   },
   "outputs": [],
   "source": [
    "items_list = []\n",
    "for s1_collection in s1_collections:\n",
    "    results = client.search(collections=[s1_collection], \n",
    "                            bbox=bbox_aut, \n",
    "                            datetime=time_period, \n",
    "                            limit=limit,\n",
    "                            method=\"GET\")\n",
    "    try:\n",
    "        items_list.extend(results.item_collection())\n",
    "    except:\n",
    "        print(f\"Search for items with collection id {s1_collection} failed.\")\n"
   ]
  },
  {
   "cell_type": "code",
   "execution_count": null,
   "id": "b8f3fed9-7179-4c19-a664-4d9a8ad11f3c",
   "metadata": {
    "tags": []
   },
   "outputs": [],
   "source": [
    "print(f\"Now, we found {len(items_list)} matching items.\")"
   ]
  },
  {
   "cell_type": "code",
   "execution_count": null,
   "id": "40687eab-94c0-41cc-93d7-7d2b351cc7d2",
   "metadata": {
    "tags": []
   },
   "outputs": [],
   "source": [
    "print(items_list[0].id)\n",
    "Image(url=items_list[0].assets[\"thumbnail\"].href, width=500)"
   ]
  },
  {
   "cell_type": "markdown",
   "id": "20a8f3a4-ed87-4c43-9527-3a6e914f2a7a",
   "metadata": {},
   "source": [
    "### Example 2: Search for Sentinel-2 data intersecting a GeoJSON object\n",
    "\n",
    "The second example makes use of the `intersects` and the `collections` parameters. Note that you cannot specify both `bbox` and `intersects`, this will result in an error.\n",
    "\n",
    "We make use of a geojson file located in the data folder."
   ]
  },
  {
   "cell_type": "code",
   "execution_count": null,
   "id": "e0bba018-6fec-4d54-a7e9-e34055f5e585",
   "metadata": {
    "tags": []
   },
   "outputs": [],
   "source": [
    "import json\n",
    "\n",
    "with open('../data/portugal_spain.geojson') as f:\n",
    "    geom = json.load(f)"
   ]
  },
  {
   "cell_type": "code",
   "execution_count": null,
   "id": "3486b968-1f6f-4e1f-8669-8c90b3f3caab",
   "metadata": {
    "tags": []
   },
   "outputs": [],
   "source": [
    "geom"
   ]
  },
  {
   "cell_type": "code",
   "execution_count": null,
   "id": "68dd8b76-db42-40b2-9d3a-98886fd9b2da",
   "metadata": {
    "tags": []
   },
   "outputs": [],
   "source": [
    "s2_collections = []\n",
    "for collection in client.get_collections():\n",
    "    if \"l1c\" in collection.id.lower() :\n",
    "        print(f\"Append collection {collection.id} to list of Sentinel-2 L1C collections.\")\n",
    "        s2_collections.append(collection.id)\n"
   ]
  },
  {
   "cell_type": "markdown",
   "id": "21c74084-0bea-4da3-83ac-0ccca934ef3b",
   "metadata": {},
   "source": [
    "We pick one that supports POST requests, for instance *VITO|urn:eop:VITO:CGS_S2_L1C*."
   ]
  },
  {
   "cell_type": "code",
   "execution_count": null,
   "id": "5d06daff-e7a9-401d-8951-e2fc23cd8fbf",
   "metadata": {
    "tags": []
   },
   "outputs": [],
   "source": [
    "search2 = {\"collections\": [\"VITO|urn:eop:VITO:CGS_S2_L1C\"],\n",
    "           \"intersects\": geom,\n",
    "           \"limit\": limit,\n",
    "           \"method\": \"POST\"}    "
   ]
  },
  {
   "cell_type": "code",
   "execution_count": null,
   "id": "c61a9cd3-cc31-483f-bc8e-9d4567b4b185",
   "metadata": {
    "tags": []
   },
   "outputs": [],
   "source": [
    "results2 = client.search(**search2)"
   ]
  },
  {
   "cell_type": "code",
   "execution_count": null,
   "id": "6d23eb18-6fb3-438a-a1b7-865cafe7c7d2",
   "metadata": {
    "tags": []
   },
   "outputs": [],
   "source": [
    "items = results2.item_collection()\n",
    "\n",
    "print(f\"We found {len(items)} matching items.\")"
   ]
  },
  {
   "cell_type": "code",
   "execution_count": null,
   "id": "4651acf0-432f-4946-af3a-62bad3616217",
   "metadata": {
    "tags": []
   },
   "outputs": [],
   "source": [
    "items[0]"
   ]
  },
  {
   "cell_type": "markdown",
   "id": "5350251b-07d1-441d-ab80-3e4e51207eb5",
   "metadata": {},
   "source": [
    "NOTE: You can always visualize STAC data (collections, items, etc.) in external tools like the STAC Browser, for instance do the following:"
   ]
  },
  {
   "cell_type": "code",
   "execution_count": null,
   "id": "acdef5f0-6d15-4c1d-a0c6-6c293a669f5d",
   "metadata": {
    "tags": []
   },
   "outputs": [],
   "source": [
    "print(f\"Look at this item in the STAC Browser: https://radiantearth.github.io/stac-browser/#/external/{items[0].get_self_href()}\")"
   ]
  },
  {
   "cell_type": "markdown",
   "id": "be0a2244-08ee-4717-b4c3-ffab41edbc66",
   "metadata": {
    "tags": []
   },
   "source": [
    "## Example 3: Use non-default search parameters (experimental!)\n",
    "\n",
    "As mentioned, the EO-MQS officially does not support parameters that are not part of the STAC API core specifications. However, when realizing a STAC implementation at a data provider's site, we usually make use of open-source libraries that are constantly being developed and improved. An example for such an improvement is the addition of search paramters like `filter`, `sortby` or `fields`.\n",
    "\n",
    "This section hints at what can be done using these additional parameters."
   ]
  },
  {
   "cell_type": "code",
   "execution_count": null,
   "id": "16e22e24-afd2-47f8-bc28-eea2908ae13c",
   "metadata": {
    "tags": []
   },
   "outputs": [],
   "source": [
    "# let's re-use a sentinel-2 collection from before\n",
    "search3 = {\"collections\": s2_collections[0],\n",
    "           \"limit\": limit,\n",
    "           \"method\": \"GET\"}    "
   ]
  },
  {
   "cell_type": "code",
   "execution_count": null,
   "id": "1bbe4e7e-53a5-4335-baa3-99e8cabdc5c5",
   "metadata": {
    "tags": []
   },
   "outputs": [],
   "source": [
    "# sort the results in a descending manner based on the datetime property\n",
    "sortby = \"-properties.datetime\"\n",
    "search_sort = search3\n",
    "search_sort[\"sortby\"] = sortby"
   ]
  },
  {
   "cell_type": "code",
   "execution_count": null,
   "id": "60da933d-6cf3-4eeb-a8be-204052a41f21",
   "metadata": {
    "tags": []
   },
   "outputs": [],
   "source": [
    "results3 = client.search(**search_sort)\n",
    "items = results3.item_collection()"
   ]
  },
  {
   "cell_type": "code",
   "execution_count": null,
   "id": "a290cf51-1c4f-4ecb-ae12-831087b4e5b0",
   "metadata": {
    "tags": []
   },
   "outputs": [],
   "source": [
    "print(f\"First item {items[0]} has datetime {items[0].get_datetime()}\")\n",
    "print(f\"Lastt item {items[-1]} has datetime {items[-1].get_datetime()}\")"
   ]
  },
  {
   "cell_type": "code",
   "execution_count": null,
   "id": "1fc4ac10-6503-444a-b2d2-4aff8db816c1",
   "metadata": {
    "tags": []
   },
   "outputs": [],
   "source": [
    "# filter based on specific property, e.g. cloud cover\n",
    "filterby = {\n",
    "  \"filter\": {\n",
    "    \"op\": \"and\",\n",
    "    \"args\": [\n",
    "      {\n",
    "        \"op\": \"<\",\n",
    "        \"args\": [\n",
    "          {\n",
    "            \"property\": \"eo:cloud_cover\"\n",
    "          },\n",
    "          10\n",
    "        ]\n",
    "      }\n",
    "    ]\n",
    "  }\n",
    "}\n",
    "search_filter = search3\n",
    "search_filter[\"sortby\"] = \"-properties.eo:cloud_cover\"\n",
    "search_filter[\"filter\"] = filterby\n",
    "search_filter[\"method\"] = \"POST\"\n",
    "search_filter[\"limit\"] = 100"
   ]
  },
  {
   "cell_type": "code",
   "execution_count": null,
   "id": "77714b86-4cdd-483e-8ffc-6cbe67e9f3c4",
   "metadata": {
    "tags": []
   },
   "outputs": [],
   "source": [
    "results3 = client.search(**search_filter)\n",
    "items = results3.item_collection()"
   ]
  },
  {
   "cell_type": "code",
   "execution_count": null,
   "id": "f080b7c6-0cc8-4e84-ba84-fe37d3ed1857",
   "metadata": {
    "tags": []
   },
   "outputs": [],
   "source": [
    "print(f\"First item {items[0]} has cloud cover {items[0].properties.get('eo:cloud_cover')}%\")\n",
    "print(f\"Last item {items[-1]} has cloud cover {items[-1].properties.get('eo:cloud_cover')}%\")\n"
   ]
  }
 ],
 "metadata": {
  "kernelspec": {
   "display_name": "Python 3 (ipykernel)",
   "language": "python",
   "name": "python3"
  },
  "language_info": {
   "codemirror_mode": {
    "name": "ipython",
    "version": 3
   },
   "file_extension": ".py",
   "mimetype": "text/x-python",
   "name": "python",
   "nbconvert_exporter": "python",
   "pygments_lexer": "ipython3",
   "version": "3.10.6"
  }
 },
 "nbformat": 4,
 "nbformat_minor": 5
}
